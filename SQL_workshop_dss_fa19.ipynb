{
 "cells": [
  {
   "cell_type": "markdown",
   "metadata": {
    "colab_type": "text",
    "id": "hsEr_hM9WdvA"
   },
   "source": [
    "# SQL Workshop Exercises"
   ]
  },
  {
   "cell_type": "code",
   "execution_count": null,
   "metadata": {
    "colab": {},
    "colab_type": "code",
    "collapsed": true,
    "id": "suqCdTsyWdvF"
   },
   "outputs": [],
   "source": [
    "import sqlalchemy\n",
    "import pandas as pd\n",
    "\n",
    "# pd.read_sql takes in a parameter for a SQLite engine, which we create below\n",
    "sqlite_uri = \"sqlite:///candies.db\"\n",
    "sqlite_engine = sqlalchemy.create_engine(sqlite_uri)"
   ]
  },
  {
   "cell_type": "markdown",
   "metadata": {
    "colab_type": "text",
    "id": "HP8InMwYWdvS"
   },
   "source": [
    "## SELECT/FROM Demo"
   ]
  },
  {
   "cell_type": "code",
   "execution_count": null,
   "metadata": {
    "colab": {},
    "colab_type": "code",
    "id": "uBwy0SQIWdvV"
   },
   "outputs": [],
   "source": [
    "# List all columns in the candytypes table\n",
    "sql_expr = \"\"\"\n",
    "\n",
    "\"\"\"                                         # add a number inside .head() to see that many elements\n",
    "pd.read_sql(sql_expr, sqlite_engine).head() # or just remove it entirely to see all the data"
   ]
  },
  {
   "cell_type": "code",
   "execution_count": null,
   "metadata": {},
   "outputs": [],
   "source": [
    "# List all columns in the candy table\n",
    "sql_expr = \"\"\"\n",
    "\n",
    "\"\"\"\n",
    "pd.read_sql(sql_expr, sqlite_engine).head()"
   ]
  },
  {
   "cell_type": "code",
   "execution_count": null,
   "metadata": {
    "colab": {},
    "colab_type": "code",
    "id": "wHD84yi5Wdvg"
   },
   "outputs": [],
   "source": [
    "# Select columns name and chocolate from candy table\n",
    "sql_expr = \"\"\"\n",
    "\n",
    "\"\"\"\n",
    "pd.read_sql(sql_expr, sqlite_engine).head()"
   ]
  },
  {
   "cell_type": "code",
   "execution_count": null,
   "metadata": {
    "colab": {},
    "colab_type": "code",
    "id": "PDRHJfVgWdvt"
   },
   "outputs": [],
   "source": [
    "# Select all distinct values from the \"chocolate\" column in candy.\n",
    "sql_expr = \"\"\"\n",
    "\n",
    "\"\"\"\n",
    "pd.read_sql(sql_expr, sqlite_engine)"
   ]
  },
  {
   "cell_type": "code",
   "execution_count": null,
   "metadata": {},
   "outputs": [],
   "source": [
    "# Select the name AS bars and type AS category from candytype.\n",
    "\"\"\"\n",
    "\n",
    "\"\"\"\n",
    "pd.read_sql(sql_expr, sqlite_engine).head()"
   ]
  },
  {
   "cell_type": "markdown",
   "metadata": {
    "colab_type": "text",
    "id": "GBVeXyD-Wdv9"
   },
   "source": [
    "## SELECT Exercises"
   ]
  },
  {
   "cell_type": "markdown",
   "metadata": {
    "colab_type": "text",
    "id": "s3LZ4BmRWdwA"
   },
   "source": [
    "##### Question 1:\n",
    "\n",
    "List all the *distinct* types of candies from the **candytypes** relation."
   ]
  },
  {
   "cell_type": "code",
   "execution_count": null,
   "metadata": {
    "colab": {},
    "colab_type": "code",
    "id": "bwI8EYM_WdwC"
   },
   "outputs": [],
   "source": [
    "# Exercise 1\n",
    "\n",
    "sql_expr = \"\"\"\n",
    "SELECT ...\n",
    "FROM ...\n",
    "\"\"\"\n",
    "pd.read_sql(sql_expr, sqlite_engine).head()"
   ]
  },
  {
   "cell_type": "markdown",
   "metadata": {
    "colab_type": "text",
    "id": "zD9c8lNqWdwL"
   },
   "source": [
    "##### Question 2:\n",
    "\n",
    "How much sugar was in all the candies you listed above? Is it chocolate?\n",
    "Select the *name*, *chocolate*, and *sugarpercent* from the **candy** relation."
   ]
  },
  {
   "cell_type": "code",
   "execution_count": null,
   "metadata": {
    "colab": {},
    "colab_type": "code",
    "id": "MtP82T7iWdwN"
   },
   "outputs": [],
   "source": [
    "# Exercise 2\n",
    "\n",
    "sql_expr = \"\"\"\n",
    "...\n",
    "\"\"\"\n",
    "pd.read_sql(sql_expr, sqlite_engine).head()"
   ]
  },
  {
   "cell_type": "markdown",
   "metadata": {},
   "source": [
    "##### Question 3:\n",
    "\n",
    "Select all distinct values from the *type* column in candytypes."
   ]
  },
  {
   "cell_type": "code",
   "execution_count": null,
   "metadata": {},
   "outputs": [],
   "source": [
    "# Exercise 3\n",
    "\n",
    "sql_expr = \"\"\"\n",
    "...\n",
    "\"\"\"\n",
    "pd.read_sql(sql_expr, sqlite_engine).head()"
   ]
  },
  {
   "cell_type": "markdown",
   "metadata": {
    "colab_type": "text",
    "id": "MQUxEYGvWdwU"
   },
   "source": [
    "---\n",
    "## WHERE Demo"
   ]
  },
  {
   "cell_type": "code",
   "execution_count": null,
   "metadata": {
    "colab": {},
    "colab_type": "code",
    "id": "YzFeBeFKWdwX"
   },
   "outputs": [],
   "source": [
    "# Select all the candies that are not chocolate and have sugar less than 30%\n",
    "\n",
    "sql_expr = \"\"\"\n",
    "\n",
    "\"\"\"\n",
    "pd.read_sql(sql_expr, sqlite_engine).head()"
   ]
  },
  {
   "cell_type": "markdown",
   "metadata": {
    "colab_type": "text",
    "id": "S4IqvoIiWdwe"
   },
   "source": [
    "## WHERE Exercises"
   ]
  },
  {
   "cell_type": "markdown",
   "metadata": {
    "colab_type": "text",
    "id": "AuorT18GWdwf"
   },
   "source": [
    "##### Question 1:\n",
    "\n",
    "Find all different candies that have **both chocolate and caramel**. Select columns *name*, *chocolate*, and *caramel* to check."
   ]
  },
  {
   "cell_type": "code",
   "execution_count": null,
   "metadata": {
    "colab": {},
    "colab_type": "code",
    "id": "tdcDvggUWdwh"
   },
   "outputs": [],
   "source": [
    "# Exercise 1\n",
    "\n",
    "sql_expr = \"\"\"\n",
    "SELECT ...\n",
    "FROM ...\n",
    "WHERE ...\n",
    "\"\"\"\n",
    "pd.read_sql(sql_expr, sqlite_engine).head()"
   ]
  },
  {
   "cell_type": "markdown",
   "metadata": {},
   "source": [
    "##### Question 2:\n",
    "\n",
    "Find all different candies that have **either chocolate or caramel, but not both**. Select columns *name*, *chocolate*, and *caramel* to check.  \n",
    "*Statistics hint: Either or but not both = (A + not B) or (B + not A)*"
   ]
  },
  {
   "cell_type": "code",
   "execution_count": null,
   "metadata": {},
   "outputs": [],
   "source": [
    "#Exercise 2\n",
    "\n",
    "sql_expr = \"\"\"\n",
    "...\n",
    "\"\"\"\n",
    "pd.read_sql(sql_expr, sqlite_engine).head()"
   ]
  },
  {
   "cell_type": "markdown",
   "metadata": {
    "colab_type": "text",
    "id": "6IbNG2oNWdwn"
   },
   "source": [
    "##### Question 3:\n",
    "\n",
    "Which **hard candies** can you buy that have **at least 40% sugar content but less than 70% sugar content**?"
   ]
  },
  {
   "cell_type": "code",
   "execution_count": null,
   "metadata": {
    "colab": {},
    "colab_type": "code",
    "id": "ROTwxYGjWdwo"
   },
   "outputs": [],
   "source": [
    "#Exercise 3\n",
    "\n",
    "sql_expr = \"\"\"\n",
    "...\n",
    "\"\"\"\n",
    "pd.read_sql(sql_expr, sqlite_engine)"
   ]
  },
  {
   "cell_type": "markdown",
   "metadata": {
    "colab_type": "text",
    "id": "cAx9coXHWdwu"
   },
   "source": [
    "## ORDER BY and LIMIT Exercises"
   ]
  },
  {
   "cell_type": "markdown",
   "metadata": {},
   "source": [
    "##### Problem 1:\n",
    "\n",
    "List the **10 most sugary fruit candies**, displaying both *name* and *sugarpercent*."
   ]
  },
  {
   "cell_type": "code",
   "execution_count": null,
   "metadata": {},
   "outputs": [],
   "source": [
    "#Exercise 1\n",
    "\n",
    "sql_expr = \"\"\"\n",
    "SELECT ...\n",
    "FROM ...\n",
    "WHERE ...\n",
    "ORDER ...\n",
    "LIMIT ...\n",
    "\"\"\"\n",
    "pd.read_sql(sql_expr, sqlite_engine)"
   ]
  },
  {
   "cell_type": "markdown",
   "metadata": {
    "colab_type": "text",
    "id": "Zm4Mhtz2Wdww"
   },
   "source": [
    "##### Problem 2:\n",
    "\n",
    "List the **top 5 cheapest candies and their prices** you can buy with **over 50% of sugar** content and **are not nougat**."
   ]
  },
  {
   "cell_type": "code",
   "execution_count": null,
   "metadata": {
    "colab": {},
    "colab_type": "code",
    "id": "n6quXjkeWdwy"
   },
   "outputs": [],
   "source": [
    "#Exercise 2\n",
    "\n",
    "sql_expr = \"\"\"\n",
    "...\n",
    "\"\"\"\n",
    "pd.read_sql(sql_expr, sqlite_engine)"
   ]
  },
  {
   "cell_type": "markdown",
   "metadata": {
    "colab_type": "text",
    "id": "tzHskJtWWdw6"
   },
   "source": [
    "## Aggregation Demo"
   ]
  },
  {
   "cell_type": "code",
   "execution_count": null,
   "metadata": {
    "colab": {},
    "colab_type": "code",
    "id": "RxqNthvbWdw-"
   },
   "outputs": [],
   "source": [
    "#Let’s find how many candies there are.\n",
    "\n",
    "sql_expr = \"\"\"\n",
    "\n",
    "\"\"\"\n",
    "pd.read_sql(sql_expr, sqlite_engine)"
   ]
  },
  {
   "cell_type": "code",
   "execution_count": null,
   "metadata": {
    "colab": {},
    "colab_type": "code",
    "id": "D2yEjid9WdxI"
   },
   "outputs": [],
   "source": [
    "#Let’s find how many categories (chocolate, nougat, caramel, etc) there are.\n",
    "\n",
    "sql_expr = \"\"\"\n",
    "\n",
    "\"\"\"\n",
    "\n",
    "pd.read_sql(sql_expr, sqlite_engine)\n"
   ]
  },
  {
   "cell_type": "code",
   "execution_count": null,
   "metadata": {
    "colab": {},
    "colab_type": "code",
    "id": "ridt7H-5WdxQ"
   },
   "outputs": [],
   "source": [
    "#Let’s find the highest sugar item on the list.\n",
    "sql_expr = \"\"\"\n",
    "\n",
    "\"\"\"\n",
    "\n",
    "pd.read_sql(sql_expr, sqlite_engine)"
   ]
  },
  {
   "cell_type": "markdown",
   "metadata": {
    "colab_type": "text",
    "id": "MRYlDVPfWdxZ"
   },
   "source": [
    "## GROUP BY Demo"
   ]
  },
  {
   "cell_type": "code",
   "execution_count": null,
   "metadata": {
    "colab": {},
    "colab_type": "code",
    "id": "2FEHlhLCWdxb"
   },
   "outputs": [],
   "source": [
    "# Find the number of candies repeated in the table candytypes.\n",
    "\n",
    "sql_expr = \"\"\"\n",
    "\n",
    "\"\"\"\n",
    "pd.read_sql(sql_expr, sqlite_engine).head()"
   ]
  },
  {
   "cell_type": "markdown",
   "metadata": {
    "colab_type": "text",
    "id": "x15f64NnWdxk"
   },
   "source": [
    "## Aggregation, GROUP BY, HAVING Exercises"
   ]
  },
  {
   "cell_type": "markdown",
   "metadata": {
    "colab_type": "text",
    "id": "O5oHQQWXWdxo"
   },
   "source": [
    "##### Question 1:\n",
    "\n",
    "Find the minimum, maximum, and average sugar percentage. Name the columns something better using aliases (**AS**)."
   ]
  },
  {
   "cell_type": "code",
   "execution_count": null,
   "metadata": {
    "colab": {},
    "colab_type": "code",
    "id": "Jng7cC83Wdxr"
   },
   "outputs": [],
   "source": [
    "# Exercise 1\n",
    "\n",
    "sql_expr = \"\"\"\n",
    "SELECT ...\n",
    "FROM ...\n",
    "\"\"\"\n",
    "pd.read_sql(sql_expr, sqlite_engine)"
   ]
  },
  {
   "cell_type": "markdown",
   "metadata": {
    "colab_type": "text",
    "id": "pYMwaBOlWdx5"
   },
   "source": [
    "##### Question 2:\n",
    "\n",
    "Find the average sugar % of candies based on chocolate/non-chocolate"
   ]
  },
  {
   "cell_type": "code",
   "execution_count": null,
   "metadata": {
    "colab": {},
    "colab_type": "code",
    "id": "ptBL00iWWdx8"
   },
   "outputs": [],
   "source": [
    "# Exercise 2\n",
    "\n",
    "sql_expr = \"\"\"\n",
    "...\n",
    "\"\"\"\n",
    "pd.read_sql(sql_expr, sqlite_engine)"
   ]
  },
  {
   "cell_type": "markdown",
   "metadata": {
    "colab_type": "text",
    "id": "jSe4ieEtWdyF"
   },
   "source": [
    "##### Question 3:\n",
    "Select the **types** and their count, including only types that have a count more than 10. *(HINT: use HAVING)*"
   ]
  },
  {
   "cell_type": "code",
   "execution_count": null,
   "metadata": {
    "colab": {},
    "colab_type": "code",
    "id": "gE63aNQeWdyH"
   },
   "outputs": [],
   "source": [
    "# Exercise 3\n",
    "\n",
    "sql_expr = \"\"\"\n",
    "...\n",
    "\"\"\"\n",
    "pd.read_sql(sql_expr, sqlite_engine)"
   ]
  },
  {
   "cell_type": "markdown",
   "metadata": {
    "colab_type": "text",
    "id": "EYLnOw8eWdyM"
   },
   "source": [
    "## JOIN Exercises"
   ]
  },
  {
   "cell_type": "markdown",
   "metadata": {
    "colab_type": "text",
    "id": "JFBwsa_aWdyN"
   },
   "source": [
    "If we are joining one table with itself, we need to make an **alias** of itself. \n",
    "\n",
    "We do this creating unique names for each alias of the table. These names are strings.\n",
    "\n",
    "In our example, we use the statement:\n",
    "\n",
    "FROM candy AS a INNER JOIN candy AS b\n",
    "\n",
    "where the two aliases of candy are a and b.\n",
    "\n",
    "Through this, we can refer to each alias separately through the syntax \"alias_name.column_name\"."
   ]
  },
  {
   "cell_type": "markdown",
   "metadata": {
    "colab_type": "text",
    "id": "_Bf6wZWpWdyO"
   },
   "source": [
    "##### Question 1: \n",
    "Return the names, price and sugar percentages of all unique pairs of candies with the same price and sugar percentages."
   ]
  },
  {
   "cell_type": "code",
   "execution_count": null,
   "metadata": {
    "colab": {},
    "colab_type": "code",
    "id": "duMaiiI1WdyQ"
   },
   "outputs": [],
   "source": [
    "# Exercise 1\n",
    "\n",
    "sql_expr = \"\"\" \n",
    "SELECT a.name, b.name, a.pricepercent, a.sugarpercent\n",
    "FROM ... AS a INNER JOIN ... AS b\n",
    "WHERE ... = ... AND ... = ... \n",
    "  AND a.name != b.name AND a.name < b.name\n",
    "\"\"\"\n",
    "pd.read_sql(sql_expr, sqlite_engine)"
   ]
  },
  {
   "cell_type": "markdown",
   "metadata": {
    "colab_type": "text",
    "id": "_kyQGG2wWdyT"
   },
   "source": [
    "##### Question 2: \n",
    "Return the names and winpercents of all unique pairs of candies containing both chocolate and caramel, and having winpercents of greater than 50% (the winpercents do not have to be equal)."
   ]
  },
  {
   "cell_type": "code",
   "execution_count": null,
   "metadata": {
    "colab": {},
    "colab_type": "code",
    "id": "HtBzQ4u4WdyU"
   },
   "outputs": [],
   "source": [
    "# Exercise 2\n",
    "\n",
    "sql_expr = \"\"\"\n",
    "SELECT a.name, b.name, a.pricepercent, a.sugarpercent\n",
    "FROM ... AS a INNER JOIN ... AS b\n",
    "WHERE ... = ... AND ... = ... AND ... = ... AND ... = ... \n",
    "  AND ... > ... AND ... > ... \n",
    "  AND a.name != b.name AND a.name < b.name\n",
    "\"\"\"\n",
    "pd.read_sql(sql_expr, sqlite_engine).head()"
   ]
  },
  {
   "cell_type": "markdown",
   "metadata": {},
   "source": [
    "##### Question 3:\n",
    "    \n",
    "Find the **top 3** average *sugarpercent* for each *type* of candy having more than 10 items in its group."
   ]
  },
  {
   "cell_type": "code",
   "execution_count": null,
   "metadata": {},
   "outputs": [],
   "source": [
    "# Exercise 3\n",
    "\n",
    "sql_expr = \"\"\" \n",
    "SELECT ...\n",
    "FROM ...\n",
    "GROUP BY ...\n",
    "HAVING ...\n",
    "ORDER BY ...\n",
    "LIMIT ...\n",
    "\"\"\"\n",
    "pd.read_sql(sql_expr, sqlite_engine)"
   ]
  }
 ],
 "metadata": {
  "colab": {
   "name": "SQL_workshop_dss_sp19.ipynb",
   "provenance": []
  },
  "kernelspec": {
   "display_name": "Python 3",
   "language": "python",
   "name": "python3"
  },
  "language_info": {
   "codemirror_mode": {
    "name": "ipython",
    "version": 3
   },
   "file_extension": ".py",
   "mimetype": "text/x-python",
   "name": "python",
   "nbconvert_exporter": "python",
   "pygments_lexer": "ipython3",
   "version": "3.6.3"
  }
 },
 "nbformat": 4,
 "nbformat_minor": 1
}
